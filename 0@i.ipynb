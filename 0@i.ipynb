{
 "cells": [
  {
   "cell_type": "code",
   "execution_count": null,
   "metadata": {},
   "outputs": [
    {
     "name": "stdout",
     "output_type": "stream",
     "text": [
      "182 frames ttsajlo f 'C:\\Users\\dell\\OneDrive\\Desktop\\projet'.\n"
     ]
    }
   ],
   "source": [
    "import cv2\n",
    "import os\n",
    "\n",
    "# Fonction dyal extraction\n",
    "def extract_frames_by_number(video_path, output_folder, frame_interval=10):\n",
    "    cap = cv2.VideoCapture(video_path)\n",
    "    if not cap.isOpened():\n",
    "        print(\"Ma qdarch y7al vidéo.\")\n",
    "        return\n",
    "\n",
    "    if not os.path.exists(output_folder):\n",
    "        os.makedirs(output_folder)\n",
    "\n",
    "    frame_count = 0\n",
    "    saved_frame_count = 0\n",
    "\n",
    "    while True:\n",
    "        ret, frame = cap.read()\n",
    "        if not ret:\n",
    "            break\n",
    "\n",
    "        if frame_count % frame_interval == 0:\n",
    "            filename = os.path.join(output_folder, f\"frame_{saved_frame_count:05d}.jpg\")\n",
    "            cv2.imwrite(filename, frame)\n",
    "            saved_frame_count += 1\n",
    "\n",
    "        frame_count += 1\n",
    "\n",
    "    cap.release()\n",
    "    print(f\"{saved_frame_count} frames ttsajlo f '{output_folder}'.\")\n",
    "\n",
    "\n",
    "video_path = r\"C:\\Users\\dell\\Downloads\\XE1.mp4\" \n",
    "output_folder = r\"C:\\Users\\dell\\OneDrive\\Desktop\\projet\"  \n",
    "frame_interval = 10\n",
    "extract_frames_by_number(video_path, output_folder, frame_interval)\n"
   ]
  },
  {
   "cell_type": "code",
   "execution_count": null,
   "metadata": {},
   "outputs": [
    {
     "name": "stdout",
     "output_type": "stream",
     "text": [
      "Ma qdarch y7al vidéo.\n"
     ]
    }
   ],
   "source": [
    "import cv2\n",
    "import os\n",
    "\n",
    "# Fonction dyal extraction\n",
    "def extract_frames_by_number(video_path, output_folder, frame_interval=10):\n",
    "    \"\"\"\n",
    "    video_path: chemin dyal vidéo\n",
    "    output_folder: dossier lli ghadi ttsajl fih frames\n",
    "    frame_interval: bach tsajl kolla 10 frames\n",
    "    \"\"\"\n",
    "    # 1. 7al vidéo\n",
    "    cap = cv2.VideoCapture(video_path)\n",
    "    if not cap.isOpened():\n",
    "        print(\"Ma qdarch y7al vidéo.\")\n",
    "        return\n",
    "\n",
    "    # 2. Tchouf wach dossier kayn, ila la, ssayb wa7d\n",
    "    if not os.path.exists(output_folder):\n",
    "        os.makedirs(output_folder)\n",
    "\n",
    "    frame_count = 0\n",
    "    saved_frame_count = 0\n",
    "\n",
    "    while True:\n",
    "        ret, frame = cap.read()\n",
    "        if not ret:  # Wach salat vidéo\n",
    "            break\n",
    "\n",
    "        # 3. Sauvegarde frame ila f interval dyal 10 frames\n",
    "        if frame_count % frame_interval == 0:\n",
    "            filename = os.path.join(output_folder, f\"frame_{saved_frame_count:04d}.jpg\")\n",
    "            cv2.imwrite(filename, frame)\n",
    "            saved_frame_count += 1\n",
    "\n",
    "        frame_count += 1\n",
    "\n",
    "    cap.release()  \n",
    "    print(f\"{saved_frame_count} frames ttsajlo f '{output_folder}'.\")\n",
    "\n",
    "\n",
    "video_path = \"C:\\\\Users\\\\dell\\\\Downloads\\\\exe.mp4\"  \n",
    "output_folder = \"C:/Users/dell/OneDrive/Desktop/projet\" \n",
    "frame_interval = 10  \n",
    "extract_frames_by_number(video_path, output_folder, frame_interval)\n"
   ]
  },
  {
   "cell_type": "code",
   "execution_count": null,
   "metadata": {},
   "outputs": [],
   "source": []
  }
 ],
 "metadata": {
  "kernelspec": {
   "display_name": ".venv",
   "language": "python",
   "name": "python3"
  },
  "language_info": {
   "codemirror_mode": {
    "name": "ipython",
    "version": 3
   },
   "file_extension": ".py",
   "mimetype": "text/x-python",
   "name": "python",
   "nbconvert_exporter": "python",
   "pygments_lexer": "ipython3",
   "version": "3.12.0"
  }
 },
 "nbformat": 4,
 "nbformat_minor": 2
}
